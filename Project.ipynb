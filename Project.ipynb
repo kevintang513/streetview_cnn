{
 "cells": [
  {
   "cell_type": "code",
   "execution_count": 1,
   "id": "3e1d3b3f-d511-457c-8770-8da45230843e",
   "metadata": {},
   "outputs": [],
   "source": [
    "import torch\n",
    "import torch.nn as nn\n",
    "import torch.optim as optim\n",
    "from torchvision import datasets, transforms\n",
    "from torch.utils.data import DataLoader"
   ]
  },
  {
   "cell_type": "code",
   "execution_count": 2,
   "id": "b239b47d-760e-4042-b0ef-d4b57bb096b3",
   "metadata": {},
   "outputs": [],
   "source": [
    "transform = transforms.Compose([\n",
    "    transforms.Resize((32, 32)),      # Resize to a common size\n",
    "    transforms.ToTensor(),             # Convert to PyTorch tensor\n",
    "    transforms.Normalize((0.5, 0.5, 0.5), (0.5, 0.5, 0.5))  # Normalize to the range [-1, 1]\n",
    "])\n"
   ]
  },
  {
   "cell_type": "code",
   "execution_count": 3,
   "id": "a01b2845-52f8-481d-a50f-55e9d64ff7f5",
   "metadata": {},
   "outputs": [
    {
     "name": "stdout",
     "output_type": "stream",
     "text": [
      "Downloading http://ufldl.stanford.edu/housenumbers/train_32x32.mat to ./data/train_32x32.mat\n"
     ]
    },
    {
     "name": "stderr",
     "output_type": "stream",
     "text": [
      "100%|█████████████████████████████████████████████████████████████████████████████████████████████████████| 182040794/182040794 [00:40<00:00, 4515540.78it/s]\n"
     ]
    },
    {
     "name": "stdout",
     "output_type": "stream",
     "text": [
      "Downloading http://ufldl.stanford.edu/housenumbers/test_32x32.mat to ./data/test_32x32.mat\n"
     ]
    },
    {
     "name": "stderr",
     "output_type": "stream",
     "text": [
      "100%|███████████████████████████████████████████████████████████████████████████████████████████████████████| 64275384/64275384 [00:13<00:00, 4726968.83it/s]\n"
     ]
    }
   ],
   "source": [
    "train_dataset = datasets.SVHN(root='./data', split='train', transform=transform, download=True)\n",
    "test_dataset = datasets.SVHN(root='./data', split='test', transform=transform, download=True)\n"
   ]
  },
  {
   "cell_type": "code",
   "execution_count": 4,
   "id": "697ddeec-1761-4fbe-b353-4ff99884599e",
   "metadata": {},
   "outputs": [
    {
     "data": {
      "text/plain": [
       "Dataset SVHN\n",
       "    Number of datapoints: 73257\n",
       "    Root location: ./data\n",
       "    Split: train\n",
       "    StandardTransform\n",
       "Transform: Compose(\n",
       "               Resize(size=(32, 32), interpolation=bilinear, max_size=None, antialias=warn)\n",
       "               ToTensor()\n",
       "               Normalize(mean=(0.5, 0.5, 0.5), std=(0.5, 0.5, 0.5))\n",
       "           )"
      ]
     },
     "execution_count": 4,
     "metadata": {},
     "output_type": "execute_result"
    }
   ],
   "source": [
    "train_dataset"
   ]
  },
  {
   "cell_type": "code",
   "execution_count": 5,
   "id": "5ea8d350-1061-48bc-8ad7-e1c2323daeaf",
   "metadata": {},
   "outputs": [
    {
     "name": "stdout",
     "output_type": "stream",
     "text": [
      "Epoch [1/10], Batch [100/1145], Loss: 2.2486\n",
      "Epoch [1/10], Batch [200/1145], Loss: 2.2442\n",
      "Epoch [1/10], Batch [300/1145], Loss: 2.2227\n",
      "Epoch [1/10], Batch [400/1145], Loss: 2.2066\n",
      "Epoch [1/10], Batch [500/1145], Loss: 1.9764\n",
      "Epoch [1/10], Batch [600/1145], Loss: 1.3520\n",
      "Epoch [1/10], Batch [700/1145], Loss: 1.0038\n",
      "Epoch [1/10], Batch [800/1145], Loss: 0.8301\n",
      "Epoch [1/10], Batch [900/1145], Loss: 0.7782\n",
      "Epoch [1/10], Batch [1000/1145], Loss: 0.6789\n",
      "Epoch [1/10], Batch [1100/1145], Loss: 0.5896\n",
      "Epoch [2/10], Batch [100/1145], Loss: 0.5696\n",
      "Epoch [2/10], Batch [200/1145], Loss: 0.5628\n",
      "Epoch [2/10], Batch [300/1145], Loss: 0.5133\n",
      "Epoch [2/10], Batch [400/1145], Loss: 0.5163\n",
      "Epoch [2/10], Batch [500/1145], Loss: 0.5032\n",
      "Epoch [2/10], Batch [600/1145], Loss: 0.5070\n",
      "Epoch [2/10], Batch [700/1145], Loss: 0.4738\n",
      "Epoch [2/10], Batch [800/1145], Loss: 0.4784\n",
      "Epoch [2/10], Batch [900/1145], Loss: 0.4610\n",
      "Epoch [2/10], Batch [1000/1145], Loss: 0.4366\n",
      "Epoch [2/10], Batch [1100/1145], Loss: 0.4475\n",
      "Epoch [3/10], Batch [100/1145], Loss: 0.3972\n",
      "Epoch [3/10], Batch [200/1145], Loss: 0.3762\n",
      "Epoch [3/10], Batch [300/1145], Loss: 0.3845\n",
      "Epoch [3/10], Batch [400/1145], Loss: 0.3851\n",
      "Epoch [3/10], Batch [500/1145], Loss: 0.3810\n",
      "Epoch [3/10], Batch [600/1145], Loss: 0.3903\n",
      "Epoch [3/10], Batch [700/1145], Loss: 0.3885\n",
      "Epoch [3/10], Batch [800/1145], Loss: 0.3708\n",
      "Epoch [3/10], Batch [900/1145], Loss: 0.3759\n",
      "Epoch [3/10], Batch [1000/1145], Loss: 0.4012\n",
      "Epoch [3/10], Batch [1100/1145], Loss: 0.3950\n",
      "Epoch [4/10], Batch [100/1145], Loss: 0.3117\n",
      "Epoch [4/10], Batch [200/1145], Loss: 0.2925\n",
      "Epoch [4/10], Batch [300/1145], Loss: 0.3272\n",
      "Epoch [4/10], Batch [400/1145], Loss: 0.3204\n",
      "Epoch [4/10], Batch [500/1145], Loss: 0.3125\n",
      "Epoch [4/10], Batch [600/1145], Loss: 0.3214\n",
      "Epoch [4/10], Batch [700/1145], Loss: 0.3535\n",
      "Epoch [4/10], Batch [800/1145], Loss: 0.3429\n",
      "Epoch [4/10], Batch [900/1145], Loss: 0.3267\n",
      "Epoch [4/10], Batch [1000/1145], Loss: 0.3227\n",
      "Epoch [4/10], Batch [1100/1145], Loss: 0.3185\n",
      "Epoch [5/10], Batch [100/1145], Loss: 0.2597\n",
      "Epoch [5/10], Batch [200/1145], Loss: 0.2511\n",
      "Epoch [5/10], Batch [300/1145], Loss: 0.2653\n",
      "Epoch [5/10], Batch [400/1145], Loss: 0.2867\n",
      "Epoch [5/10], Batch [500/1145], Loss: 0.2876\n",
      "Epoch [5/10], Batch [600/1145], Loss: 0.2818\n",
      "Epoch [5/10], Batch [700/1145], Loss: 0.3004\n",
      "Epoch [5/10], Batch [800/1145], Loss: 0.2632\n",
      "Epoch [5/10], Batch [900/1145], Loss: 0.2734\n",
      "Epoch [5/10], Batch [1000/1145], Loss: 0.2940\n",
      "Epoch [5/10], Batch [1100/1145], Loss: 0.2780\n",
      "Epoch [6/10], Batch [100/1145], Loss: 0.2387\n",
      "Epoch [6/10], Batch [200/1145], Loss: 0.2306\n",
      "Epoch [6/10], Batch [300/1145], Loss: 0.2289\n",
      "Epoch [6/10], Batch [400/1145], Loss: 0.2242\n",
      "Epoch [6/10], Batch [500/1145], Loss: 0.2660\n",
      "Epoch [6/10], Batch [600/1145], Loss: 0.2363\n",
      "Epoch [6/10], Batch [700/1145], Loss: 0.2347\n",
      "Epoch [6/10], Batch [800/1145], Loss: 0.2658\n",
      "Epoch [6/10], Batch [900/1145], Loss: 0.2363\n",
      "Epoch [6/10], Batch [1000/1145], Loss: 0.2366\n",
      "Epoch [6/10], Batch [1100/1145], Loss: 0.2502\n",
      "Epoch [7/10], Batch [100/1145], Loss: 0.1810\n",
      "Epoch [7/10], Batch [200/1145], Loss: 0.2068\n",
      "Epoch [7/10], Batch [300/1145], Loss: 0.1916\n",
      "Epoch [7/10], Batch [400/1145], Loss: 0.2028\n",
      "Epoch [7/10], Batch [500/1145], Loss: 0.2099\n",
      "Epoch [7/10], Batch [600/1145], Loss: 0.2009\n",
      "Epoch [7/10], Batch [700/1145], Loss: 0.1925\n",
      "Epoch [7/10], Batch [800/1145], Loss: 0.2371\n",
      "Epoch [7/10], Batch [900/1145], Loss: 0.2038\n",
      "Epoch [7/10], Batch [1000/1145], Loss: 0.2205\n",
      "Epoch [7/10], Batch [1100/1145], Loss: 0.2480\n",
      "Epoch [8/10], Batch [100/1145], Loss: 0.1560\n",
      "Epoch [8/10], Batch [200/1145], Loss: 0.1610\n",
      "Epoch [8/10], Batch [300/1145], Loss: 0.1765\n",
      "Epoch [8/10], Batch [400/1145], Loss: 0.1782\n",
      "Epoch [8/10], Batch [500/1145], Loss: 0.1793\n",
      "Epoch [8/10], Batch [600/1145], Loss: 0.1831\n",
      "Epoch [8/10], Batch [700/1145], Loss: 0.1918\n",
      "Epoch [8/10], Batch [800/1145], Loss: 0.1995\n",
      "Epoch [8/10], Batch [900/1145], Loss: 0.1882\n",
      "Epoch [8/10], Batch [1000/1145], Loss: 0.1997\n",
      "Epoch [8/10], Batch [1100/1145], Loss: 0.1817\n",
      "Epoch [9/10], Batch [100/1145], Loss: 0.1534\n",
      "Epoch [9/10], Batch [200/1145], Loss: 0.1362\n",
      "Epoch [9/10], Batch [300/1145], Loss: 0.1518\n",
      "Epoch [9/10], Batch [400/1145], Loss: 0.1608\n",
      "Epoch [9/10], Batch [500/1145], Loss: 0.1494\n",
      "Epoch [9/10], Batch [600/1145], Loss: 0.1513\n",
      "Epoch [9/10], Batch [700/1145], Loss: 0.1492\n",
      "Epoch [9/10], Batch [800/1145], Loss: 0.1658\n",
      "Epoch [9/10], Batch [900/1145], Loss: 0.1684\n",
      "Epoch [9/10], Batch [1000/1145], Loss: 0.1611\n",
      "Epoch [9/10], Batch [1100/1145], Loss: 0.1747\n",
      "Epoch [10/10], Batch [100/1145], Loss: 0.1348\n",
      "Epoch [10/10], Batch [200/1145], Loss: 0.1125\n",
      "Epoch [10/10], Batch [300/1145], Loss: 0.1245\n",
      "Epoch [10/10], Batch [400/1145], Loss: 0.1316\n",
      "Epoch [10/10], Batch [500/1145], Loss: 0.1232\n",
      "Epoch [10/10], Batch [600/1145], Loss: 0.1411\n",
      "Epoch [10/10], Batch [700/1145], Loss: 0.1325\n",
      "Epoch [10/10], Batch [800/1145], Loss: 0.1380\n",
      "Epoch [10/10], Batch [900/1145], Loss: 0.1333\n",
      "Epoch [10/10], Batch [1000/1145], Loss: 0.1595\n",
      "Epoch [10/10], Batch [1100/1145], Loss: 0.1421\n",
      "Training Finished!\n",
      "Accuracy on test set: 88.08%\n"
     ]
    }
   ],
   "source": [
    "# Create DataLoader for batch processing\n",
    "train_loader = DataLoader(train_dataset, batch_size=64, shuffle=True)\n",
    "test_loader = DataLoader(test_dataset, batch_size=64, shuffle=False)\n",
    "\n",
    "# Define the CNN model\n",
    "class CNN(nn.Module):\n",
    "    def __init__(self):\n",
    "        super(CNN, self).__init__()\n",
    "        self.conv1 = nn.Conv2d(in_channels=3, out_channels=16, kernel_size=3, stride=1, padding=1)\n",
    "        self.conv2 = nn.Conv2d(in_channels=16, out_channels=32, kernel_size=3, stride=1, padding=1)\n",
    "        self.pool = nn.MaxPool2d(kernel_size=2, stride=2)\n",
    "        self.fc1 = nn.Linear(32 * 8 * 8, 128)\n",
    "        self.fc2 = nn.Linear(128, 10)  # 10 output classes for digits 0-9\n",
    "\n",
    "    def forward(self, x):\n",
    "        x = self.pool(nn.functional.relu(self.conv1(x)))\n",
    "        x = self.pool(nn.functional.relu(self.conv2(x)))\n",
    "        x = x.view(-1, 32 * 8 * 8)  # Flatten the output from conv layers\n",
    "        x = nn.functional.relu(self.fc1(x))\n",
    "        x = self.fc2(x)\n",
    "        return x\n",
    "\n",
    "# Create an instance of the CNN\n",
    "model = CNN()\n",
    "\n",
    "# Define loss function and optimizer\n",
    "criterion = nn.CrossEntropyLoss()\n",
    "optimizer = optim.SGD(model.parameters(), lr=0.01, momentum=0.9)\n",
    "\n",
    "# Training loop\n",
    "num_epochs = 10\n",
    "for epoch in range(num_epochs):\n",
    "    running_loss = 0.0\n",
    "    for i, data in enumerate(train_loader, 0):\n",
    "        inputs, labels = data\n",
    "        optimizer.zero_grad()\n",
    "        outputs = model(inputs)\n",
    "        loss = criterion(outputs, labels)\n",
    "        loss.backward()\n",
    "        optimizer.step()\n",
    "\n",
    "        running_loss += loss.item()\n",
    "        if i % 100 == 99:  # Print every 100 mini-batches\n",
    "            print(f\"Epoch [{epoch + 1}/{num_epochs}], \"\n",
    "                  f\"Batch [{i + 1}/{len(train_loader)}], \"\n",
    "                  f\"Loss: {running_loss / 100:.4f}\")\n",
    "            running_loss = 0.0\n",
    "\n",
    "print(\"Training Finished!\")\n",
    "\n",
    "# Evaluation on test set\n",
    "correct = 0\n",
    "total = 0\n",
    "with torch.no_grad():\n",
    "    for data in test_loader:\n",
    "        images, labels = data\n",
    "        outputs = model(images)\n",
    "        _, predicted = torch.max(outputs.data, 1)\n",
    "        total += labels.size(0)\n",
    "        correct += (predicted == labels).sum().item()\n",
    "\n",
    "print(f\"Accuracy on test set: {(correct / total) * 100:.2f}%\")"
   ]
  },
  {
   "cell_type": "code",
   "execution_count": null,
   "id": "f8f8a221-f194-403f-859f-4a8eb5298df4",
   "metadata": {},
   "outputs": [],
   "source": []
  }
 ],
 "metadata": {
  "kernelspec": {
   "display_name": "Python 3 (ipykernel)",
   "language": "python",
   "name": "python3"
  },
  "language_info": {
   "codemirror_mode": {
    "name": "ipython",
    "version": 3
   },
   "file_extension": ".py",
   "mimetype": "text/x-python",
   "name": "python",
   "nbconvert_exporter": "python",
   "pygments_lexer": "ipython3",
   "version": "3.8.0"
  }
 },
 "nbformat": 4,
 "nbformat_minor": 5
}
