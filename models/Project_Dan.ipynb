{
 "cells": [
  {
   "cell_type": "code",
   "execution_count": 1,
   "id": "3e1d3b3f-d511-457c-8770-8da45230843e",
   "metadata": {},
   "outputs": [],
   "source": [
    "import torch\n",
    "import torch.nn as nn\n",
    "import torch.optim as optim\n",
    "from torchvision import datasets, transforms\n",
    "from torch.utils.data import DataLoader"
   ]
  },
  {
   "cell_type": "code",
   "execution_count": 2,
   "id": "b239b47d-760e-4042-b0ef-d4b57bb096b3",
   "metadata": {},
   "outputs": [],
   "source": [
    "transform = transforms.Compose([\n",
    "    transforms.Resize((32, 32)),      # Resize to a common size\n",
    "    transforms.ToTensor(),             # Convert to PyTorch tensor\n",
    "    transforms.Normalize((0.5, 0.5, 0.5), (0.5, 0.5, 0.5))  # Normalize to the range [-1, 1]\n",
    "])\n"
   ]
  },
  {
   "cell_type": "code",
   "execution_count": 3,
   "id": "a01b2845-52f8-481d-a50f-55e9d64ff7f5",
   "metadata": {},
   "outputs": [
    {
     "name": "stdout",
     "output_type": "stream",
     "text": [
      "Using downloaded and verified file: ./data/train_32x32.mat\n",
      "Using downloaded and verified file: ./data/test_32x32.mat\n"
     ]
    }
   ],
   "source": [
    "train_dataset = datasets.SVHN(root='./data', split='train', transform=transform, download=True)\n",
    "test_dataset = datasets.SVHN(root='./data', split='test', transform=transform, download=True)\n"
   ]
  },
  {
   "cell_type": "code",
   "execution_count": 4,
   "id": "697ddeec-1761-4fbe-b353-4ff99884599e",
   "metadata": {},
   "outputs": [
    {
     "data": {
      "text/plain": [
       "Dataset SVHN\n",
       "    Number of datapoints: 73257\n",
       "    Root location: ./data\n",
       "    Split: train\n",
       "    StandardTransform\n",
       "Transform: Compose(\n",
       "               Resize(size=(32, 32), interpolation=bilinear, max_size=None, antialias=warn)\n",
       "               ToTensor()\n",
       "               Normalize(mean=(0.5, 0.5, 0.5), std=(0.5, 0.5, 0.5))\n",
       "           )"
      ]
     },
     "execution_count": 4,
     "metadata": {},
     "output_type": "execute_result"
    }
   ],
   "source": [
    "train_dataset"
   ]
  },
  {
   "cell_type": "code",
   "execution_count": 13,
   "id": "5ea8d350-1061-48bc-8ad7-e1c2323daeaf",
   "metadata": {},
   "outputs": [
    {
     "name": "stdout",
     "output_type": "stream",
     "text": [
      "Epoch [1/5], Batch [100/1145], Loss: 2.2651\n",
      "Epoch [1/5], Batch [200/1145], Loss: 2.2339\n",
      "Epoch [1/5], Batch [300/1145], Loss: 2.2332\n",
      "Epoch [1/5], Batch [400/1145], Loss: 2.2395\n",
      "Epoch [1/5], Batch [500/1145], Loss: 2.2405\n",
      "Epoch [1/5], Batch [600/1145], Loss: 2.2364\n",
      "Epoch [1/5], Batch [700/1145], Loss: 2.2386\n",
      "Epoch [1/5], Batch [800/1145], Loss: 2.2304\n",
      "Epoch [1/5], Batch [900/1145], Loss: 2.2359\n",
      "Epoch [1/5], Batch [1000/1145], Loss: 2.2323\n",
      "Epoch [1/5], Batch [1100/1145], Loss: 2.2246\n",
      "Epoch [2/5], Batch [100/1145], Loss: 2.1069\n",
      "Epoch [2/5], Batch [200/1145], Loss: 1.7886\n",
      "Epoch [2/5], Batch [300/1145], Loss: 1.3781\n",
      "Epoch [2/5], Batch [400/1145], Loss: 1.1112\n",
      "Epoch [2/5], Batch [500/1145], Loss: 0.9587\n",
      "Epoch [2/5], Batch [600/1145], Loss: 0.8007\n",
      "Epoch [2/5], Batch [700/1145], Loss: 0.7021\n",
      "Epoch [2/5], Batch [800/1145], Loss: 0.6729\n",
      "Epoch [2/5], Batch [900/1145], Loss: 0.6329\n",
      "Epoch [2/5], Batch [1000/1145], Loss: 0.5674\n",
      "Epoch [2/5], Batch [1100/1145], Loss: 0.5241\n",
      "Epoch [3/5], Batch [100/1145], Loss: 0.5152\n",
      "Epoch [3/5], Batch [200/1145], Loss: 0.4634\n",
      "Epoch [3/5], Batch [300/1145], Loss: 0.4802\n",
      "Epoch [3/5], Batch [400/1145], Loss: 0.4439\n",
      "Epoch [3/5], Batch [500/1145], Loss: 0.4247\n",
      "Epoch [3/5], Batch [600/1145], Loss: 0.4509\n",
      "Epoch [3/5], Batch [700/1145], Loss: 0.4420\n",
      "Epoch [3/5], Batch [800/1145], Loss: 0.4130\n",
      "Epoch [3/5], Batch [900/1145], Loss: 0.4134\n",
      "Epoch [3/5], Batch [1000/1145], Loss: 0.4057\n",
      "Epoch [3/5], Batch [1100/1145], Loss: 0.3984\n",
      "Epoch [4/5], Batch [100/1145], Loss: 0.3542\n",
      "Epoch [4/5], Batch [200/1145], Loss: 0.3546\n",
      "Epoch [4/5], Batch [300/1145], Loss: 0.3340\n",
      "Epoch [4/5], Batch [400/1145], Loss: 0.3606\n",
      "Epoch [4/5], Batch [500/1145], Loss: 0.3558\n",
      "Epoch [4/5], Batch [600/1145], Loss: 0.3429\n",
      "Epoch [4/5], Batch [700/1145], Loss: 0.3554\n",
      "Epoch [4/5], Batch [800/1145], Loss: 0.3411\n",
      "Epoch [4/5], Batch [900/1145], Loss: 0.3575\n",
      "Epoch [4/5], Batch [1000/1145], Loss: 0.3360\n",
      "Epoch [4/5], Batch [1100/1145], Loss: 0.3391\n",
      "Epoch [5/5], Batch [100/1145], Loss: 0.2941\n",
      "Epoch [5/5], Batch [200/1145], Loss: 0.2932\n",
      "Epoch [5/5], Batch [300/1145], Loss: 0.2664\n",
      "Epoch [5/5], Batch [400/1145], Loss: 0.2955\n",
      "Epoch [5/5], Batch [500/1145], Loss: 0.2995\n",
      "Epoch [5/5], Batch [600/1145], Loss: 0.3009\n",
      "Epoch [5/5], Batch [700/1145], Loss: 0.2729\n",
      "Epoch [5/5], Batch [800/1145], Loss: 0.2790\n",
      "Epoch [5/5], Batch [900/1145], Loss: 0.3242\n",
      "Epoch [5/5], Batch [1000/1145], Loss: 0.2936\n",
      "Epoch [5/5], Batch [1100/1145], Loss: 0.2906\n",
      "Training Finished!\n",
      "Accuracy on test set: 89.02%\n"
     ]
    }
   ],
   "source": [
    "# Create DataLoader for batch processing\n",
    "train_loader = DataLoader(train_dataset, batch_size=64, shuffle=True)\n",
    "test_loader = DataLoader(test_dataset, batch_size=64, shuffle=False)\n",
    "\n",
    "# Define the CNN model\n",
    "class CNN(nn.Module):\n",
    "    def __init__(self):\n",
    "        super(CNN, self).__init__()\n",
    "        self.conv1 = nn.Conv2d(in_channels=3, out_channels=16, kernel_size=3, stride=1, padding=1)\n",
    "        self.conv2 = nn.Conv2d(in_channels=16, out_channels=32, kernel_size=3, stride=1, padding=1)\n",
    "        self.pool = nn.MaxPool2d(kernel_size=2, stride=2)\n",
    "        self.fc1 = nn.Linear(32 * 8 * 8, 128)\n",
    "        self.fc2 = nn.Linear(128, 128) \n",
    "        self.fc3 = nn.Linear(128, 64)\n",
    "        self.fc4 = nn.Linear(64, 10)\n",
    "\n",
    "    def forward(self, x):\n",
    "        x = self.pool(nn.functional.relu(self.conv1(x)))\n",
    "        x = self.pool(nn.functional.relu(self.conv2(x)))\n",
    "        x = x.view(-1, 32 * 8 * 8)  # Flatten the output from conv layers\n",
    "        x = nn.functional.relu(self.fc1(x))\n",
    "        x = nn.functional.relu(self.fc2(x))\n",
    "        x = nn.functional.relu(self.fc3(x))\n",
    "        x = self.fc4(x)\n",
    "        return x\n",
    "\n",
    "# Create an instance of the CNN\n",
    "model = CNN()\n",
    "\n",
    "# Define loss function and optimizer\n",
    "criterion = nn.CrossEntropyLoss()\n",
    "optimizer = optim.SGD(model.parameters(), lr=0.01, momentum=0.9)\n",
    "\n",
    "# Training loop\n",
    "num_epochs = 5\n",
    "for epoch in range(num_epochs):\n",
    "    running_loss = 0.0\n",
    "    for i, data in enumerate(train_loader, 0):\n",
    "        inputs, labels = data\n",
    "        optimizer.zero_grad()\n",
    "        outputs = model(inputs)\n",
    "        loss = criterion(outputs, labels)\n",
    "        loss.backward()\n",
    "        optimizer.step()\n",
    "\n",
    "        running_loss += loss.item()\n",
    "        if i % 100 == 99:  # Print every 100 mini-batches\n",
    "            print(f\"Epoch [{epoch + 1}/{num_epochs}], \"\n",
    "                  f\"Batch [{i + 1}/{len(train_loader)}], \"\n",
    "                  f\"Loss: {running_loss / 100:.4f}\")\n",
    "            running_loss = 0.0\n",
    "\n",
    "print(\"Training Finished!\")\n",
    "\n",
    "# Evaluation on test set\n",
    "correct = 0\n",
    "total = 0\n",
    "with torch.no_grad():\n",
    "    for data in test_loader:\n",
    "        images, labels = data\n",
    "        outputs = model(images)\n",
    "        _, predicted = torch.max(outputs.data, 1)\n",
    "        total += labels.size(0)\n",
    "        correct += (predicted == labels).sum().item()\n",
    "\n",
    "print(f\"Accuracy on test set: {(correct / total) * 100:.2f}%\")"
   ]
  },
  {
   "cell_type": "code",
   "execution_count": null,
   "id": "f8f8a221-f194-403f-859f-4a8eb5298df4",
   "metadata": {},
   "outputs": [],
   "source": []
  }
 ],
 "metadata": {
  "kernelspec": {
   "display_name": "Python 3 (ipykernel)",
   "language": "python",
   "name": "python3"
  },
  "language_info": {
   "codemirror_mode": {
    "name": "ipython",
    "version": 3
   },
   "file_extension": ".py",
   "mimetype": "text/x-python",
   "name": "python",
   "nbconvert_exporter": "python",
   "pygments_lexer": "ipython3",
   "version": "3.8.0"
  }
 },
 "nbformat": 4,
 "nbformat_minor": 5
}
